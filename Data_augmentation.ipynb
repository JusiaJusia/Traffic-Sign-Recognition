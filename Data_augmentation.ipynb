{
  "nbformat": 4,
  "nbformat_minor": 0,
  "metadata": {
    "colab": {
      "name": "Data_augmentation.ipynb",
      "provenance": [],
      "collapsed_sections": [],
      "mount_file_id": "16VKUSXKLCsJMG0Hs5wg-3Fav13Zbwr2C",
      "authorship_tag": "ABX9TyMCJtcL1Qvguk4Kk9qKQ13n",
      "include_colab_link": true
    },
    "kernelspec": {
      "name": "python3",
      "display_name": "Python 3"
    },
    "accelerator": "GPU"
  },
  "cells": [
    {
      "cell_type": "markdown",
      "metadata": {
        "id": "view-in-github",
        "colab_type": "text"
      },
      "source": [
        "<a href=\"https://colab.research.google.com/github/JusiaJusia/Traffic-Sign-Recognition/blob/master/Data_augmentation.ipynb\" target=\"_parent\"><img src=\"https://colab.research.google.com/assets/colab-badge.svg\" alt=\"Open In Colab\"/></a>"
      ]
    },
    {
      "cell_type": "code",
      "metadata": {
        "id": "Lh_enfXEDKw0",
        "colab_type": "code",
        "outputId": "02f7d562-eaa4-4e04-f5a3-2537b512a75a",
        "colab": {
          "base_uri": "https://localhost:8080/",
          "height": 54
        }
      },
      "source": [
        "import pandas as pd\n",
        "import numpy as np\n",
        "import os\n",
        "import datetime \n",
        "\n",
        "import tensorflow as tf \n",
        "from tensorflow.keras.models import Sequential\n",
        "from tensorflow.keras.layers import Conv2D, MaxPool2D, Dense, Flatten, Dropout\n",
        "from tensorflow.keras.utils import to_categorical\n",
        "\n",
        "%load_ext tensorboard\n",
        "\n",
        "import matplotlib.pyplot as plt\n",
        "from skimage import color, exposure\n",
        "\n",
        "from sklearn.metrics import accuracy_score"
      ],
      "execution_count": 2,
      "outputs": [
        {
          "output_type": "stream",
          "text": [
            "ERROR! Session/line number was not unique in database. History logging moved to new session 59\n"
          ],
          "name": "stdout"
        }
      ]
    },
    {
      "cell_type": "code",
      "metadata": {
        "id": "wQxfpx9UET3F",
        "colab_type": "code",
        "outputId": "7c033b97-875a-4a21-c161-d66582ffa760",
        "colab": {
          "base_uri": "https://localhost:8080/",
          "height": 34
        }
      },
      "source": [
        "cd '/content/drive/My Drive/Colab Notebooks/matrix/m_3/data'"
      ],
      "execution_count": 3,
      "outputs": [
        {
          "output_type": "stream",
          "text": [
            "/content/drive/My Drive/Colab Notebooks/matrix/m_3/data\n"
          ],
          "name": "stdout"
        }
      ]
    },
    {
      "cell_type": "code",
      "metadata": {
        "id": "XAirae1zEngS",
        "colab_type": "code",
        "colab": {}
      },
      "source": [
        "train = pd.read_pickle('train.p')\n",
        "test = pd.read_pickle('test.p')\n",
        "\n",
        "X_train, y_train = train['features'],train['labels']\n",
        "X_test, y_test = test['features'],test['labels']\n"
      ],
      "execution_count": 0,
      "outputs": []
    },
    {
      "cell_type": "code",
      "metadata": {
        "id": "335Ye0DlFyzI",
        "colab_type": "code",
        "colab": {}
      },
      "source": [
        "if y_train.ndim == 1: y_train = to_categorical(y_train)\n",
        "if y_test.ndim == 1: y_test = to_categorical(y_test)"
      ],
      "execution_count": 0,
      "outputs": []
    },
    {
      "cell_type": "code",
      "metadata": {
        "id": "BQ-hmc9xEwkB",
        "colab_type": "code",
        "colab": {}
      },
      "source": [
        "input_shape = X_train.shape[1:]\n",
        "num_classes = y_train.shape[1]"
      ],
      "execution_count": 0,
      "outputs": []
    },
    {
      "cell_type": "code",
      "metadata": {
        "id": "doSMCLaGFn35",
        "colab_type": "code",
        "colab": {}
      },
      "source": [
        "def get_cnn_v1(input_shape,num_classes):\n",
        "  return Sequential([\n",
        "    Conv2D(filters=64,kernel_size=(3,3),activation='relu', input_shape = input_shape),\n",
        "\n",
        "    Flatten(),\n",
        "\n",
        "    Dense(num_classes, activation='softmax'),\n",
        "])\n",
        "  \n",
        "def train_model(model, X_train,y_train, params_fit={}): \n",
        "  model.compile(loss = 'categorical_crossentropy', optimizer = 'Adam', metrics = ['accuracy'])\n",
        "\n",
        "  logdir = os.path.join('logs', datetime.datetime.now().strftime('\"%m/%d/%Y-%H:%M:%S\"'))\n",
        "  tensorboard_callback = tf.keras.callbacks.TensorBoard(logdir, histogram_freq=1)\n",
        "  \n",
        "  model.fit(\n",
        "      X_train, \n",
        "      y_train,\n",
        "      batch_size = params_fit.get('batch_size', 128),\n",
        "      epochs = params_fit.get('epochs', 5),\n",
        "      verbose = params_fit.get('verbose', 1),\n",
        "      validation_data = params_fit.get('validation_data', (X_train,y_train)),\n",
        "      callbacks = [tensorboard_callback]\n",
        "      )\n",
        "  return model"
      ],
      "execution_count": 0,
      "outputs": []
    },
    {
      "cell_type": "code",
      "metadata": {
        "id": "ad5ctOVYIBgo",
        "colab_type": "code",
        "outputId": "2699381b-1c8a-4d74-d642-407215d63027",
        "colab": {
          "base_uri": "https://localhost:8080/",
          "height": 205
        }
      },
      "source": [
        "model=get_cnn_v1(input_shape, num_classes)\n",
        "model_trained = train_model(model, X_train, y_train)"
      ],
      "execution_count": 8,
      "outputs": [
        {
          "output_type": "stream",
          "text": [
            "Epoch 1/5\n",
            "272/272 [==============================] - 7s 24ms/step - loss: 38.9294 - accuracy: 0.7582 - val_loss: 0.2462 - val_accuracy: 0.9403\n",
            "Epoch 2/5\n",
            "272/272 [==============================] - 6s 23ms/step - loss: 0.1898 - accuracy: 0.9556 - val_loss: 0.0990 - val_accuracy: 0.9761\n",
            "Epoch 3/5\n",
            "272/272 [==============================] - 6s 23ms/step - loss: 0.1341 - accuracy: 0.9695 - val_loss: 0.1917 - val_accuracy: 0.9591\n",
            "Epoch 4/5\n",
            "272/272 [==============================] - 6s 23ms/step - loss: 0.1452 - accuracy: 0.9677 - val_loss: 0.0705 - val_accuracy: 0.9832\n",
            "Epoch 5/5\n",
            "272/272 [==============================] - 6s 23ms/step - loss: 0.0827 - accuracy: 0.9809 - val_loss: 0.0612 - val_accuracy: 0.9851\n"
          ],
          "name": "stdout"
        }
      ]
    },
    {
      "cell_type": "code",
      "metadata": {
        "id": "0NDu6PWijRCf",
        "colab_type": "code",
        "colab": {}
      },
      "source": [
        "df= pd.read_csv('signnames.csv')\n",
        "labels_dict = df.to_dict()['b']"
      ],
      "execution_count": 0,
      "outputs": []
    },
    {
      "cell_type": "code",
      "metadata": {
        "id": "fUZt2A3tk0Mi",
        "colab_type": "code",
        "colab": {}
      },
      "source": [
        "def predict(model_trained, X_test, y_test, scoring = accuracy_score ):\n",
        "\n",
        "  y_test_norm = np.argmax(y_test, axis=1)\n",
        "\n",
        "  y_pred_probability=model_trained.predict(X_test)\n",
        "  y_pred = np.argmax(y_pred_probability, axis=1)\n",
        "\n",
        "  return scoring(y_test_norm, y_pred)\n",
        "\n"
      ],
      "execution_count": 0,
      "outputs": []
    },
    {
      "cell_type": "code",
      "metadata": {
        "id": "LWyl0OKx1K1s",
        "colab_type": "code",
        "colab": {
          "base_uri": "https://localhost:8080/",
          "height": 34
        },
        "outputId": "302f013b-3349-4ec4-824b-cbc5c3a7b218"
      },
      "source": [
        "predict(model,X_test, y_test)"
      ],
      "execution_count": 11,
      "outputs": [
        {
          "output_type": "execute_result",
          "data": {
            "text/plain": [
              "0.8222222222222222"
            ]
          },
          "metadata": {
            "tags": []
          },
          "execution_count": 11
        }
      ]
    },
    {
      "cell_type": "code",
      "metadata": {
        "id": "f-FWspPNWxyB",
        "colab_type": "code",
        "colab": {}
      },
      "source": [
        ""
      ],
      "execution_count": 0,
      "outputs": []
    },
    {
      "cell_type": "markdown",
      "metadata": {
        "id": "HswrOoMz2g7c",
        "colab_type": "text"
      },
      "source": [
        "Architecture engineering "
      ]
    },
    {
      "cell_type": "code",
      "metadata": {
        "id": "BfRlsnzgWyql",
        "colab_type": "code",
        "colab": {}
      },
      "source": [
        "def train_and_predict(model):\n",
        "  model_trained = train_model(model, X_train, y_train)\n",
        "\n",
        "  return predict(model,X_test, y_test)"
      ],
      "execution_count": 0,
      "outputs": []
    },
    {
      "cell_type": "code",
      "metadata": {
        "id": "Ne2Wy-_Z1Kwn",
        "colab_type": "code",
        "colab": {
          "base_uri": "https://localhost:8080/",
          "height": 222
        },
        "outputId": "d6588f6d-ec82-4e33-b840-b9ed3fed8930"
      },
      "source": [
        "def get_cnn_v2(input_shape,num_classes):\n",
        "  return Sequential([\n",
        "    Conv2D(filters=32,kernel_size=(3,3),activation='relu', input_shape = input_shape),\n",
        "    MaxPool2D(),\n",
        "    Dropout(0.3),\n",
        "\n",
        "\n",
        "    Conv2D(filters=64,kernel_size=(3,3),activation='relu'),\n",
        "    MaxPool2D(),\n",
        "    Dropout(0.3),\n",
        "\n",
        "    Flatten(),\n",
        "\n",
        "    Dense(1024, activation='relu'),\n",
        "    Dropout(0.3),\n",
        "\n",
        "    Dense(num_classes, activation='softmax'),\n",
        "])\n",
        "\n",
        "\n",
        "\n",
        "train_and_predict(get_cnn_v2(input_shape,num_classes))"
      ],
      "execution_count": 17,
      "outputs": [
        {
          "output_type": "stream",
          "text": [
            "Epoch 1/5\n",
            "272/272 [==============================] - 6s 24ms/step - loss: 5.4311 - accuracy: 0.2800 - val_loss: 1.2985 - val_accuracy: 0.6561\n",
            "Epoch 2/5\n",
            "272/272 [==============================] - 6s 23ms/step - loss: 1.2276 - accuracy: 0.6466 - val_loss: 0.4159 - val_accuracy: 0.8995\n",
            "Epoch 3/5\n",
            "272/272 [==============================] - 6s 23ms/step - loss: 0.6245 - accuracy: 0.8195 - val_loss: 0.1917 - val_accuracy: 0.9551\n",
            "Epoch 4/5\n",
            "272/272 [==============================] - 6s 23ms/step - loss: 0.4030 - accuracy: 0.8809 - val_loss: 0.1329 - val_accuracy: 0.9684\n",
            "Epoch 5/5\n",
            "272/272 [==============================] - 6s 23ms/step - loss: 0.3018 - accuracy: 0.9106 - val_loss: 0.0710 - val_accuracy: 0.9843\n"
          ],
          "name": "stdout"
        },
        {
          "output_type": "execute_result",
          "data": {
            "text/plain": [
              "0.9213151927437642"
            ]
          },
          "metadata": {
            "tags": []
          },
          "execution_count": 17
        }
      ]
    },
    {
      "cell_type": "code",
      "metadata": {
        "id": "qo1fAKv1aS6t",
        "colab_type": "code",
        "colab": {
          "base_uri": "https://localhost:8080/",
          "height": 222
        },
        "outputId": "62013165-891a-4d6e-8e80-8cc1bb075779"
      },
      "source": [
        "def get_cnn_v3(input_shape,num_classes):\n",
        "  return Sequential([\n",
        "    Conv2D(filters=32,kernel_size=(3,3),activation='relu', input_shape = input_shape),\n",
        "    Conv2D(filters=32,kernel_size=(3,3),activation='relu'),\n",
        "\n",
        "    MaxPool2D(),\n",
        "    Dropout(0.3),\n",
        "\n",
        "\n",
        "    Conv2D(filters=64,kernel_size=(3,3),activation='relu'),\n",
        "    Conv2D(filters=64,kernel_size=(3,3),activation='relu'),\n",
        "    MaxPool2D(),\n",
        "    Dropout(0.3),\n",
        "\n",
        "    Flatten(),\n",
        "\n",
        "    Dense(1024, activation='relu'),\n",
        "    Dropout(0.3),\n",
        "\n",
        "    Dense(num_classes, activation='softmax'),\n",
        "])\n",
        "\n",
        "\n",
        "\n",
        "train_and_predict(get_cnn_v3(input_shape,num_classes))"
      ],
      "execution_count": 18,
      "outputs": [
        {
          "output_type": "stream",
          "text": [
            "Epoch 1/5\n",
            "272/272 [==============================] - 10s 37ms/step - loss: 2.7220 - accuracy: 0.4543 - val_loss: 0.6135 - val_accuracy: 0.8475\n",
            "Epoch 2/5\n",
            "272/272 [==============================] - 10s 36ms/step - loss: 0.6989 - accuracy: 0.7888 - val_loss: 0.1569 - val_accuracy: 0.9648\n",
            "Epoch 3/5\n",
            "272/272 [==============================] - 10s 36ms/step - loss: 0.3348 - accuracy: 0.9004 - val_loss: 0.0785 - val_accuracy: 0.9824\n",
            "Epoch 4/5\n",
            "272/272 [==============================] - 10s 36ms/step - loss: 0.2112 - accuracy: 0.9384 - val_loss: 0.0423 - val_accuracy: 0.9897\n",
            "Epoch 5/5\n",
            "272/272 [==============================] - 10s 36ms/step - loss: 0.1509 - accuracy: 0.9558 - val_loss: 0.0271 - val_accuracy: 0.9943\n"
          ],
          "name": "stdout"
        },
        {
          "output_type": "execute_result",
          "data": {
            "text/plain": [
              "0.9736961451247166"
            ]
          },
          "metadata": {
            "tags": []
          },
          "execution_count": 18
        }
      ]
    },
    {
      "cell_type": "code",
      "metadata": {
        "id": "o654CsATat5A",
        "colab_type": "code",
        "colab": {
          "base_uri": "https://localhost:8080/",
          "height": 222
        },
        "outputId": "9fc67fed-411c-4ea8-cf9f-3e0d1e73707e"
      },
      "source": [
        "def get_cnn_v4(input_shape,num_classes):\n",
        "  return Sequential([\n",
        "    Conv2D(filters=32,kernel_size=(3,3),activation='relu', input_shape = input_shape),\n",
        "    Conv2D(filters=32,kernel_size=(3,3),activation='relu', padding = 'same'),\n",
        "\n",
        "    MaxPool2D(),\n",
        "    Dropout(0.3),\n",
        "\n",
        "\n",
        "    Conv2D(filters=64,kernel_size=(3,3),activation='relu', padding = 'same'),\n",
        "    Conv2D(filters=64,kernel_size=(3,3),activation='relu'),\n",
        "    MaxPool2D(),\n",
        "    Dropout(0.3),\n",
        "\n",
        "    Conv2D(filters=64,kernel_size=(3,3),activation='relu', padding = 'same'),\n",
        "    Conv2D(filters=64,kernel_size=(3,3),activation='relu'),\n",
        "    MaxPool2D(),\n",
        "    Dropout(0.3),\n",
        "\n",
        "    Flatten(),\n",
        "\n",
        "    Dense(1024, activation='relu'),\n",
        "    Dropout(0.3),\n",
        "\n",
        "    Dense(num_classes, activation='softmax'),\n",
        "])\n",
        "\n",
        "\n",
        "\n",
        "train_and_predict(get_cnn_v4(input_shape,num_classes))"
      ],
      "execution_count": 21,
      "outputs": [
        {
          "output_type": "stream",
          "text": [
            "Epoch 1/5\n",
            "272/272 [==============================] - 12s 45ms/step - loss: 2.5022 - accuracy: 0.3018 - val_loss: 1.0739 - val_accuracy: 0.6699\n",
            "Epoch 2/5\n",
            "272/272 [==============================] - 12s 43ms/step - loss: 0.9102 - accuracy: 0.7063 - val_loss: 0.2300 - val_accuracy: 0.9298\n",
            "Epoch 3/5\n",
            "272/272 [==============================] - 12s 43ms/step - loss: 0.4164 - accuracy: 0.8686 - val_loss: 0.0795 - val_accuracy: 0.9768\n",
            "Epoch 4/5\n",
            "272/272 [==============================] - 12s 43ms/step - loss: 0.2647 - accuracy: 0.9191 - val_loss: 0.0500 - val_accuracy: 0.9865\n",
            "Epoch 5/5\n",
            "272/272 [==============================] - 12s 43ms/step - loss: 0.1938 - accuracy: 0.9401 - val_loss: 0.0400 - val_accuracy: 0.9872\n"
          ],
          "name": "stdout"
        },
        {
          "output_type": "execute_result",
          "data": {
            "text/plain": [
              "0.9616780045351474"
            ]
          },
          "metadata": {
            "tags": []
          },
          "execution_count": 21
        }
      ]
    },
    {
      "cell_type": "code",
      "metadata": {
        "id": "UtQYUkgrat07",
        "colab_type": "code",
        "colab": {
          "base_uri": "https://localhost:8080/",
          "height": 222
        },
        "outputId": "600a0ff7-e3ab-40f2-f925-350d9d656730"
      },
      "source": [
        "def get_cnn_v5(input_shape,num_classes):\n",
        "  return Sequential([\n",
        "    Conv2D(filters=32,kernel_size=(3,3),activation='relu', input_shape = input_shape),\n",
        "    Conv2D(filters=32,kernel_size=(3,3),activation='relu', padding = 'same'),\n",
        "\n",
        "    MaxPool2D(),\n",
        "    Dropout(0.3),\n",
        "\n",
        "\n",
        "    Conv2D(filters=64,kernel_size=(3,3),activation='relu', padding = 'same'),\n",
        "    Conv2D(filters=64,kernel_size=(3,3),activation='relu'),\n",
        "    MaxPool2D(),\n",
        "    Dropout(0.3),\n",
        "\n",
        "    Conv2D(filters=64,kernel_size=(3,3),activation='relu', padding = 'same'),\n",
        "    Conv2D(filters=64,kernel_size=(3,3),activation='relu'),\n",
        "    MaxPool2D(),\n",
        "    Dropout(0.3),\n",
        "\n",
        "    Flatten(),\n",
        "\n",
        "    Dense(1024, activation='relu'),\n",
        "    Dropout(0.3),\n",
        "\n",
        "    Dense(1024, activation='relu'),\n",
        "    Dropout(0.3),\n",
        "\n",
        "    Dense(num_classes, activation='softmax'),\n",
        "])\n",
        "\n",
        "\n",
        "\n",
        "train_and_predict(get_cnn_v5(input_shape,num_classes))"
      ],
      "execution_count": 22,
      "outputs": [
        {
          "output_type": "stream",
          "text": [
            "Epoch 1/5\n",
            "272/272 [==============================] - 13s 46ms/step - loss: 2.4792 - accuracy: 0.3121 - val_loss: 0.8688 - val_accuracy: 0.7419\n",
            "Epoch 2/5\n",
            "272/272 [==============================] - 12s 45ms/step - loss: 0.7261 - accuracy: 0.7666 - val_loss: 0.2219 - val_accuracy: 0.9334\n",
            "Epoch 3/5\n",
            "272/272 [==============================] - 12s 46ms/step - loss: 0.3599 - accuracy: 0.8892 - val_loss: 0.0883 - val_accuracy: 0.9743\n",
            "Epoch 4/5\n",
            "272/272 [==============================] - 12s 46ms/step - loss: 0.2310 - accuracy: 0.9319 - val_loss: 0.0496 - val_accuracy: 0.9863\n",
            "Epoch 5/5\n",
            "272/272 [==============================] - 12s 46ms/step - loss: 0.1727 - accuracy: 0.9484 - val_loss: 0.0307 - val_accuracy: 0.9909\n"
          ],
          "name": "stdout"
        },
        {
          "output_type": "execute_result",
          "data": {
            "text/plain": [
              "0.9655328798185941"
            ]
          },
          "metadata": {
            "tags": []
          },
          "execution_count": 22
        }
      ]
    },
    {
      "cell_type": "code",
      "metadata": {
        "id": "oKra7wdAIttE",
        "colab_type": "code",
        "colab": {}
      },
      "source": [
        "#%tensorboard --logdir logs"
      ],
      "execution_count": 0,
      "outputs": []
    },
    {
      "cell_type": "code",
      "metadata": {
        "id": "HTfvVUjWjEuh",
        "colab_type": "code",
        "colab": {}
      },
      "source": [
        "from tensorflow.keras.layers import Conv1D"
      ],
      "execution_count": 0,
      "outputs": []
    },
    {
      "cell_type": "code",
      "metadata": {
        "id": "bB4OD1D8Vcml",
        "colab_type": "code",
        "colab": {}
      },
      "source": [
        "X_train_grey = color.rgb2gray(X_train).reshape(-1,32,32,1)\n",
        "X_test_gray = color.rgb2gray(X_test).reshape(-1,32,32,1)"
      ],
      "execution_count": 0,
      "outputs": []
    },
    {
      "cell_type": "code",
      "metadata": {
        "id": "2NGGObGddrKb",
        "colab_type": "code",
        "colab": {
          "base_uri": "https://localhost:8080/",
          "height": 222
        },
        "outputId": "5ee416b2-7d82-460f-a6df-c900a8e2a615"
      },
      "source": [
        "model = get_cnn_v5((32,32,1), num_classes)\n",
        "model_trained = train_model(model, X_train_grey, y_train, params_fit={})\n",
        "predict(model_trained, X_test_gray, y_test)"
      ],
      "execution_count": 29,
      "outputs": [
        {
          "output_type": "stream",
          "text": [
            "Epoch 1/5\n",
            "272/272 [==============================] - 13s 46ms/step - loss: 2.8675 - accuracy: 0.2085 - val_loss: 0.8100 - val_accuracy: 0.7523\n",
            "Epoch 2/5\n",
            "272/272 [==============================] - 12s 45ms/step - loss: 0.6115 - accuracy: 0.7982 - val_loss: 0.1284 - val_accuracy: 0.9638\n",
            "Epoch 3/5\n",
            "272/272 [==============================] - 12s 45ms/step - loss: 0.2431 - accuracy: 0.9220 - val_loss: 0.0548 - val_accuracy: 0.9845\n",
            "Epoch 4/5\n",
            "272/272 [==============================] - 12s 45ms/step - loss: 0.1485 - accuracy: 0.9534 - val_loss: 0.0343 - val_accuracy: 0.9905\n",
            "Epoch 5/5\n",
            "272/272 [==============================] - 12s 45ms/step - loss: 0.1093 - accuracy: 0.9656 - val_loss: 0.0183 - val_accuracy: 0.9953\n"
          ],
          "name": "stdout"
        },
        {
          "output_type": "execute_result",
          "data": {
            "text/plain": [
              "0.9682539682539683"
            ]
          },
          "metadata": {
            "tags": []
          },
          "execution_count": 29
        }
      ]
    },
    {
      "cell_type": "code",
      "metadata": {
        "id": "z2ji4Az4j4xk",
        "colab_type": "code",
        "colab": {
          "base_uri": "https://localhost:8080/",
          "height": 283
        },
        "outputId": "69d87a15-06cc-4941-a914-465fd2fddca1"
      },
      "source": [
        "plt.imshow(color.rgb2gray(X_train[0]), cmap = plt.get_cmap('gray'))"
      ],
      "execution_count": 33,
      "outputs": [
        {
          "output_type": "execute_result",
          "data": {
            "text/plain": [
              "<matplotlib.image.AxesImage at 0x7f48c3b8ba90>"
            ]
          },
          "metadata": {
            "tags": []
          },
          "execution_count": 33
        },
        {
          "output_type": "display_data",
          "data": {
            "image/png": "[encoded data removed]",
            "text/plain": [
              "<Figure size 432x288 with 1 Axes>"
            ]
          },
          "metadata": {
            "tags": []
          }
        }
      ]
    },
    {
      "cell_type": "code",
      "metadata": {
        "id": "YnHPd8pXky1G",
        "colab_type": "code",
        "colab": {}
      },
      "source": [
        ""
      ],
      "execution_count": 0,
      "outputs": []
    }
  ]
}