{
  "nbformat": 4,
  "nbformat_minor": 0,
  "metadata": {
    "colab": {
      "name": "Tuning_hyperparameter.ipynb",
      "provenance": [],
      "collapsed_sections": [],
      "mount_file_id": "1EU8hzn-j7K6-UPNnop1JnnP1rpmnq_Ea",
      "authorship_tag": "ABX9TyP6ATa/U2jGqrc1l3i5gd45",
      "include_colab_link": true
    },
    "kernelspec": {
      "name": "python3",
      "display_name": "Python 3"
    },
    "accelerator": "GPU"
  },
  "cells": [
    {
      "cell_type": "markdown",
      "metadata": {
        "id": "view-in-github",
        "colab_type": "text"
      },
      "source": [
        "<a href=\"https://colab.research.google.com/github/JusiaJusia/Traffic-Sign-Recognition/blob/master/Tuning_hyperparameter.ipynb\" target=\"_parent\"><img src=\"https://colab.research.google.com/assets/colab-badge.svg\" alt=\"Open In Colab\"/></a>"
      ]
    },
    {
      "cell_type": "code",
      "metadata": {
        "id": "ekMnFhE5mbDc",
        "colab_type": "code",
        "colab": {
          "base_uri": "https://localhost:8080/",
          "height": 188
        },
        "outputId": "a41c151c-ca12-4f83-84d3-93a9447488a9"
      },
      "source": [
        "!pip install hyperopt"
      ],
      "execution_count": 2,
      "outputs": [
        {
          "output_type": "stream",
          "text": [
            "Requirement already satisfied: hyperopt in /usr/local/lib/python3.6/dist-packages (0.1.2)\n",
            "Requirement already satisfied: six in /usr/local/lib/python3.6/dist-packages (from hyperopt) (1.12.0)\n",
            "Requirement already satisfied: numpy in /usr/local/lib/python3.6/dist-packages (from hyperopt) (1.18.2)\n",
            "Requirement already satisfied: scipy in /usr/local/lib/python3.6/dist-packages (from hyperopt) (1.4.1)\n",
            "Requirement already satisfied: tqdm in /usr/local/lib/python3.6/dist-packages (from hyperopt) (4.38.0)\n",
            "Requirement already satisfied: future in /usr/local/lib/python3.6/dist-packages (from hyperopt) (0.16.0)\n",
            "Requirement already satisfied: networkx in /usr/local/lib/python3.6/dist-packages (from hyperopt) (2.4)\n",
            "Requirement already satisfied: pymongo in /usr/local/lib/python3.6/dist-packages (from hyperopt) (3.10.1)\n",
            "Requirement already satisfied: decorator>=4.3.0 in /usr/local/lib/python3.6/dist-packages (from networkx->hyperopt) (4.4.2)\n"
          ],
          "name": "stdout"
        }
      ]
    },
    {
      "cell_type": "code",
      "metadata": {
        "id": "Lh_enfXEDKw0",
        "colab_type": "code",
        "colab": {}
      },
      "source": [
        "import pandas as pd\n",
        "import numpy as np\n",
        "import os\n",
        "import datetime \n",
        "\n",
        "import tensorflow as tf \n",
        "from tensorflow.keras.models import Sequential\n",
        "from tensorflow.keras.layers import Conv2D, MaxPool2D, Dense, Flatten, Dropout\n",
        "from tensorflow.keras.utils import to_categorical\n",
        "\n",
        "%load_ext tensorboard\n",
        "\n",
        "import matplotlib.pyplot as plt\n",
        "from skimage import color, exposure\n",
        "\n",
        "from sklearn.metrics import accuracy_score\n",
        "\n",
        "from hyperopt import hp, STATUS_OK, tpe, Trials, fmin"
      ],
      "execution_count": 0,
      "outputs": []
    },
    {
      "cell_type": "code",
      "metadata": {
        "id": "wQxfpx9UET3F",
        "colab_type": "code",
        "outputId": "64580b73-ad91-49f8-ee9e-ec29e5e07b5b",
        "colab": {
          "base_uri": "https://localhost:8080/",
          "height": 34
        }
      },
      "source": [
        "cd '/content/drive/My Drive/Colab Notebooks/matrix/m_3/data'"
      ],
      "execution_count": 3,
      "outputs": [
        {
          "output_type": "stream",
          "text": [
            "/content/drive/My Drive/Colab Notebooks/matrix/m_3/data\n"
          ],
          "name": "stdout"
        }
      ]
    },
    {
      "cell_type": "code",
      "metadata": {
        "id": "XAirae1zEngS",
        "colab_type": "code",
        "colab": {}
      },
      "source": [
        "train = pd.read_pickle('train.p')\n",
        "test = pd.read_pickle('test.p')\n",
        "\n",
        "X_train, y_train = train['features'],train['labels']\n",
        "X_test, y_test = test['features'],test['labels']\n"
      ],
      "execution_count": 0,
      "outputs": []
    },
    {
      "cell_type": "code",
      "metadata": {
        "id": "335Ye0DlFyzI",
        "colab_type": "code",
        "colab": {}
      },
      "source": [
        "if y_train.ndim == 1: y_train = to_categorical(y_train)\n",
        "if y_test.ndim == 1: y_test = to_categorical(y_test)"
      ],
      "execution_count": 0,
      "outputs": []
    },
    {
      "cell_type": "code",
      "metadata": {
        "id": "BQ-hmc9xEwkB",
        "colab_type": "code",
        "colab": {}
      },
      "source": [
        "input_shape = X_train.shape[1:]\n",
        "num_classes = y_train.shape[1]"
      ],
      "execution_count": 0,
      "outputs": []
    },
    {
      "cell_type": "code",
      "metadata": {
        "id": "doSMCLaGFn35",
        "colab_type": "code",
        "colab": {}
      },
      "source": [
        "def train_model(model, X_train,y_train, params_fit={}): \n",
        "  model.compile(loss = 'categorical_crossentropy', optimizer = 'Adam', metrics = ['accuracy'])\n",
        "\n",
        "  logdir = os.path.join('logs', datetime.datetime.now().strftime('\"%m/%d/%Y-%H:%M:%S\"'))\n",
        "  tensorboard_callback = tf.keras.callbacks.TensorBoard(logdir, histogram_freq=1)\n",
        "  \n",
        "  model.fit(\n",
        "      X_train, \n",
        "      y_train,\n",
        "      batch_size = params_fit.get('batch_size', 128),\n",
        "      epochs = params_fit.get('epochs', 5),\n",
        "      verbose = params_fit.get('verbose', 1),\n",
        "      validation_data = params_fit.get('validation_data', (X_train,y_train)),\n",
        "      callbacks = [tensorboard_callback]\n",
        "      )\n",
        "  return model"
      ],
      "execution_count": 0,
      "outputs": []
    },
    {
      "cell_type": "code",
      "metadata": {
        "id": "efqrBFdZnRKa",
        "colab_type": "code",
        "colab": {}
      },
      "source": [
        "def predict(model_trained, X_test, y_test, scoring = accuracy_score ):\n",
        "\n",
        "  y_test_norm = np.argmax(y_test, axis=1)\n",
        "\n",
        "  y_pred_probability=model_trained.predict(X_test)\n",
        "  y_pred = np.argmax(y_pred_probability, axis=1)\n",
        "\n",
        "  return scoring(y_test_norm, y_pred)"
      ],
      "execution_count": 0,
      "outputs": []
    },
    {
      "cell_type": "code",
      "metadata": {
        "id": "UtQYUkgrat07",
        "colab_type": "code",
        "colab": {}
      },
      "source": [
        "def get_cnn_v5(input_shape,num_classes):\n",
        "  return Sequential([\n",
        "    Conv2D(filters=32,kernel_size=(3,3),activation='relu', input_shape = input_shape),\n",
        "    Conv2D(filters=32,kernel_size=(3,3),activation='relu', padding = 'same'),\n",
        "\n",
        "    MaxPool2D(),\n",
        "    Dropout(0.3),\n",
        "\n",
        "\n",
        "    Conv2D(filters=64,kernel_size=(3,3),activation='relu', padding = 'same'),\n",
        "    Conv2D(filters=64,kernel_size=(3,3),activation='relu'),\n",
        "    MaxPool2D(),\n",
        "    Dropout(0.3),\n",
        "\n",
        "    Conv2D(filters=64,kernel_size=(3,3),activation='relu', padding = 'same'),\n",
        "    Conv2D(filters=64,kernel_size=(3,3),activation='relu'),\n",
        "    MaxPool2D(),\n",
        "    Dropout(0.3),\n",
        "\n",
        "    Flatten(),\n",
        "\n",
        "    Dense(1024, activation='relu'),\n",
        "    Dropout(0.3),\n",
        "\n",
        "    Dense(1024, activation='relu'),\n",
        "    Dropout(0.3),\n",
        "\n",
        "    Dense(num_classes, activation='softmax'),\n",
        "])\n",
        "\n"
      ],
      "execution_count": 0,
      "outputs": []
    },
    {
      "cell_type": "code",
      "metadata": {
        "id": "fGSTlZdtodOx",
        "colab_type": "code",
        "colab": {}
      },
      "source": [
        ""
      ],
      "execution_count": 0,
      "outputs": []
    },
    {
      "cell_type": "code",
      "metadata": {
        "id": "ad5ctOVYIBgo",
        "colab_type": "code",
        "outputId": "b4cbe7bd-30c7-4708-e603-5f8c3de1572f",
        "colab": {
          "base_uri": "https://localhost:8080/",
          "height": 222
        }
      },
      "source": [
        "model=get_cnn_v5(input_shape, num_classes)\n",
        "model_trained = train_model(model, X_train, y_train)\n",
        "\n",
        "predict(model_trained, X_test, y_test)"
      ],
      "execution_count": 10,
      "outputs": [
        {
          "output_type": "stream",
          "text": [
            "Epoch 1/5\n",
            "272/272 [==============================] - 6s 24ms/step - loss: 2.3573 - accuracy: 0.3285 - val_loss: 0.9903 - val_accuracy: 0.7050\n",
            "Epoch 2/5\n",
            "272/272 [==============================] - 6s 22ms/step - loss: 0.7736 - accuracy: 0.7501 - val_loss: 0.1636 - val_accuracy: 0.9495\n",
            "Epoch 3/5\n",
            "272/272 [==============================] - 6s 22ms/step - loss: 0.3435 - accuracy: 0.8960 - val_loss: 0.0829 - val_accuracy: 0.9773\n",
            "Epoch 4/5\n",
            "272/272 [==============================] - 6s 23ms/step - loss: 0.2119 - accuracy: 0.9378 - val_loss: 0.0470 - val_accuracy: 0.9856\n",
            "Epoch 5/5\n",
            "272/272 [==============================] - 6s 22ms/step - loss: 0.1647 - accuracy: 0.9514 - val_loss: 0.0269 - val_accuracy: 0.9923\n"
          ],
          "name": "stdout"
        },
        {
          "output_type": "execute_result",
          "data": {
            "text/plain": [
              "0.9757369614512472"
            ]
          },
          "metadata": {
            "tags": []
          },
          "execution_count": 10
        }
      ]
    },
    {
      "cell_type": "code",
      "metadata": {
        "id": "Sfp0SrAtFdPG",
        "colab_type": "code",
        "colab": {}
      },
      "source": [
        "def get_model(params):\n",
        "  return Sequential([\n",
        "    Conv2D(filters=32,kernel_size=(3,3),activation='relu', input_shape = input_shape),\n",
        "    Conv2D(filters=32,kernel_size=(3,3),activation='relu', padding = 'same'),\n",
        "    MaxPool2D(),\n",
        "    Dropout(params['dropout_cnn_block_one']),\n",
        "\n",
        "\n",
        "    Conv2D(filters=64,kernel_size=(3,3),activation='relu', padding = 'same'),\n",
        "    Conv2D(filters=64,kernel_size=(3,3),activation='relu'),\n",
        "    MaxPool2D(),\n",
        "    Dropout(params['dropout_cnn_block_two']),\n",
        "\n",
        "    Conv2D(filters=128,kernel_size=(3,3),activation='relu', padding = 'same'),\n",
        "    Conv2D(filters=128,kernel_size=(3,3),activation='relu'),\n",
        "    MaxPool2D(),\n",
        "    Dropout(params['dropout_cnn_block_three']),\n",
        "\n",
        "    Flatten(),\n",
        "\n",
        "    Dense(1024, activation='relu'),\n",
        "    Dropout(params['dropout_dense_block_one']),\n",
        "\n",
        "    Dense(1024, activation='relu'),\n",
        "    Dropout(params['dropout_dense_block_two']),\n",
        "\n",
        "    Dense(num_classes, activation='softmax'),\n",
        "])\n"
      ],
      "execution_count": 0,
      "outputs": []
    },
    {
      "cell_type": "code",
      "metadata": {
        "id": "dvrPKYUAn4Nd",
        "colab_type": "code",
        "colab": {}
      },
      "source": [
        "def func_obj(params): \n",
        "  model=get_model(params)\n",
        "  model.compile(loss = 'categorical_crossentropy', optimizer = 'Adam', metrics = ['accuracy'])\n",
        "\n",
        "  model.fit(\n",
        "      X_train, \n",
        "      y_train,\n",
        "      batch_size =128, #int(params.get('batch_size', 128)),\n",
        "      epochs = 5,\n",
        "      verbose = 0\n",
        "      )\n",
        "  \n",
        "  score = model.evaluate(X_test, y_test, verbose = 0)\n",
        "  accuracy = score[1]\n",
        "  print(params, 'accuracy={}'.format(accuracy))\n",
        "\n",
        "  return {'loss': -accuracy, 'status': STATUS_OK, 'model': model }"
      ],
      "execution_count": 0,
      "outputs": []
    },
    {
      "cell_type": "code",
      "metadata": {
        "id": "YZqznPTKn30r",
        "colab_type": "code",
        "colab": {
          "base_uri": "https://localhost:8080/",
          "height": 1000
        },
        "outputId": "a1856aa8-64b5-4ce5-cedb-ac981ebb58df"
      },
      "source": [
        "space = {\n",
        "    'batch_size': hp.quniform('batch_size', 50, 200, 20),\n",
        "    'dropout_cnn_block_one': hp.uniform('dropout_cnn_block_one', 0.3, 0.5),\n",
        "    'dropout_cnn_block_two': hp.uniform('dropout_cnn_block_two', 0.3, 0.5),\n",
        "    'dropout_cnn_block_three': hp.uniform('dropout_cnn_block_three', 0.3, 0.5),\n",
        "\n",
        "    'dropout_dense_block_one': hp.uniform('dropout_dense_block_one', 0.3, 0.7),\n",
        "    'dropout_dense_block_two': hp.uniform('dropout_dense_block_two', 0.3, 0.7),\n",
        "  }\n",
        "\n",
        "best = fmin(\n",
        "    func_obj,\n",
        "    space,\n",
        "    tpe.suggest,\n",
        "    30,\n",
        "    Trials()\n",
        ")\n"
      ],
      "execution_count": 28,
      "outputs": [
        {
          "output_type": "stream",
          "text": [
            "{'batch_size': 80.0, 'dropout_cnn_block_one': 0.4918977185076108, 'dropout_cnn_block_three': 0.3356431201131449, 'dropout_cnn_block_two': 0.41182206938973226, 'dropout_dense_block_one': 0.4187675484711448, 'dropout_dense_block_two': 0.42296561526937915}\n",
            "accuracy=0.9362812042236328\n",
            "{'batch_size': 60.0, 'dropout_cnn_block_one': 0.47162145675603145, 'dropout_cnn_block_three': 0.3615023499308931, 'dropout_cnn_block_two': 0.32157732836291636, 'dropout_dense_block_one': 0.3094761162202702, 'dropout_dense_block_two': 0.6032902168233961}\n",
            "accuracy=0.9337868690490723\n",
            "{'batch_size': 140.0, 'dropout_cnn_block_one': 0.41040230097419794, 'dropout_cnn_block_three': 0.3214323768702455, 'dropout_cnn_block_two': 0.3416285210906584, 'dropout_dense_block_one': 0.699030546524297, 'dropout_dense_block_two': 0.5194608344838847}\n",
            "accuracy=0.8408163189888\n",
            "{'batch_size': 80.0, 'dropout_cnn_block_one': 0.323552565805668, 'dropout_cnn_block_three': 0.322406114289355, 'dropout_cnn_block_two': 0.43784514219823145, 'dropout_dense_block_one': 0.6363520829360307, 'dropout_dense_block_two': 0.4163612199105094}\n",
            "accuracy=0.9392290115356445\n",
            "{'batch_size': 80.0, 'dropout_cnn_block_one': 0.3893201401890183, 'dropout_cnn_block_three': 0.49534951123078713, 'dropout_cnn_block_two': 0.37911587299514676, 'dropout_dense_block_one': 0.6299140063535948, 'dropout_dense_block_two': 0.310680614106466}\n",
            "accuracy=0.88117915391922\n",
            "{'batch_size': 180.0, 'dropout_cnn_block_one': 0.3612424809221905, 'dropout_cnn_block_three': 0.35804437755795815, 'dropout_cnn_block_two': 0.49863114942231324, 'dropout_dense_block_one': 0.5883297838772763, 'dropout_dense_block_two': 0.3695917845133858}\n",
            "accuracy=0.9401360750198364\n",
            "{'batch_size': 200.0, 'dropout_cnn_block_one': 0.3996052254478173, 'dropout_cnn_block_three': 0.3995258173086078, 'dropout_cnn_block_two': 0.3604146000424706, 'dropout_dense_block_one': 0.4011990656584117, 'dropout_dense_block_two': 0.6607274416703582}\n",
            "accuracy=0.9557822942733765\n",
            "{'batch_size': 100.0, 'dropout_cnn_block_one': 0.33910170008278057, 'dropout_cnn_block_three': 0.43562137287777997, 'dropout_cnn_block_two': 0.39844693957512634, 'dropout_dense_block_one': 0.4955815452821166, 'dropout_dense_block_two': 0.33715159112503607}\n",
            "accuracy=0.9684807062149048\n",
            "{'batch_size': 160.0, 'dropout_cnn_block_one': 0.4305268589916037, 'dropout_cnn_block_three': 0.46050332943295175, 'dropout_cnn_block_two': 0.33078995374680675, 'dropout_dense_block_one': 0.5449669690185285, 'dropout_dense_block_two': 0.35924886905646025}\n",
            "accuracy=0.9371882081031799\n",
            "{'batch_size': 160.0, 'dropout_cnn_block_one': 0.3419871357957781, 'dropout_cnn_block_three': 0.3763616972972944, 'dropout_cnn_block_two': 0.4424264299542354, 'dropout_dense_block_one': 0.6732024089015701, 'dropout_dense_block_two': 0.63355221605643}\n",
            "accuracy=0.8786848187446594\n",
            "{'batch_size': 140.0, 'dropout_cnn_block_one': 0.4989212515461152, 'dropout_cnn_block_three': 0.45305376225460314, 'dropout_cnn_block_two': 0.4240726912298567, 'dropout_dense_block_one': 0.406399684095942, 'dropout_dense_block_two': 0.5229466617231031}\n",
            "accuracy=0.8748299479484558\n",
            "{'batch_size': 180.0, 'dropout_cnn_block_one': 0.35790680939879027, 'dropout_cnn_block_three': 0.45827411634127274, 'dropout_cnn_block_two': 0.3854893354904175, 'dropout_dense_block_one': 0.5847029677759576, 'dropout_dense_block_two': 0.37214917326508834}\n",
            "accuracy=0.962358295917511\n",
            "{'batch_size': 200.0, 'dropout_cnn_block_one': 0.49192620814202886, 'dropout_cnn_block_three': 0.3589064357753743, 'dropout_cnn_block_two': 0.4383235942955052, 'dropout_dense_block_one': 0.3854674806852252, 'dropout_dense_block_two': 0.6747247819500368}\n",
            "accuracy=0.8716553449630737\n",
            "{'batch_size': 80.0, 'dropout_cnn_block_one': 0.3593203573989814, 'dropout_cnn_block_three': 0.3786589286276992, 'dropout_cnn_block_two': 0.4492935889826475, 'dropout_dense_block_one': 0.33773568528440645, 'dropout_dense_block_two': 0.6351828938166544}\n",
            "accuracy=0.9396825432777405\n",
            "{'batch_size': 160.0, 'dropout_cnn_block_one': 0.49078718777082825, 'dropout_cnn_block_three': 0.4017715775948666, 'dropout_cnn_block_two': 0.3851845329302435, 'dropout_dense_block_one': 0.6841769500590169, 'dropout_dense_block_two': 0.6691265248282547}\n",
            "accuracy=0.7811791300773621\n",
            "{'batch_size': 100.0, 'dropout_cnn_block_one': 0.39868281065007083, 'dropout_cnn_block_three': 0.43676949384689945, 'dropout_cnn_block_two': 0.38733178771566923, 'dropout_dense_block_one': 0.5708128791175744, 'dropout_dense_block_two': 0.6105587937029927}\n",
            "accuracy=0.9417233467102051\n",
            "{'batch_size': 100.0, 'dropout_cnn_block_one': 0.3732361743999972, 'dropout_cnn_block_three': 0.4837440887745021, 'dropout_cnn_block_two': 0.4018919230953357, 'dropout_dense_block_one': 0.4753282344838097, 'dropout_dense_block_two': 0.3495722118015943}\n",
            "accuracy=0.9594104290008545\n",
            "{'batch_size': 140.0, 'dropout_cnn_block_one': 0.4932859116324405, 'dropout_cnn_block_three': 0.4272804167569082, 'dropout_cnn_block_two': 0.387559783264138, 'dropout_dense_block_one': 0.4624643498229648, 'dropout_dense_block_two': 0.3503013202954709}\n",
            "accuracy=0.9308390021324158\n",
            "{'batch_size': 100.0, 'dropout_cnn_block_one': 0.39586614635694284, 'dropout_cnn_block_three': 0.45405985966162005, 'dropout_cnn_block_two': 0.3766668095401753, 'dropout_dense_block_one': 0.6489992567565726, 'dropout_dense_block_two': 0.3712005205892739}\n",
            "accuracy=0.8453514575958252\n",
            "{'batch_size': 80.0, 'dropout_cnn_block_one': 0.41118061862627575, 'dropout_cnn_block_three': 0.434749007667707, 'dropout_cnn_block_two': 0.4709972732570428, 'dropout_dense_block_one': 0.6610138308559254, 'dropout_dense_block_two': 0.3704914360743025}\n",
            "accuracy=0.9065759778022766\n",
            "{'batch_size': 120.0, 'dropout_cnn_block_one': 0.30467625128830755, 'dropout_cnn_block_three': 0.48082902885697926, 'dropout_cnn_block_two': 0.3599099576011797, 'dropout_dense_block_one': 0.5117935548458383, 'dropout_dense_block_two': 0.30438697664020425}\n",
            "accuracy=0.9437641501426697\n",
            "{'batch_size': 120.0, 'dropout_cnn_block_one': 0.3043380264315992, 'dropout_cnn_block_three': 0.4150911429012065, 'dropout_cnn_block_two': 0.30078584267441155, 'dropout_dense_block_one': 0.5134878462813381, 'dropout_dense_block_two': 0.4744979944320773}\n",
            "accuracy=0.9625850319862366\n",
            "{'batch_size': 120.0, 'dropout_cnn_block_one': 0.3016155261590666, 'dropout_cnn_block_three': 0.4040657801708645, 'dropout_cnn_block_two': 0.30733456148342986, 'dropout_dense_block_one': 0.520994376977016, 'dropout_dense_block_two': 0.4573678349693481}\n",
            "accuracy=0.9258503317832947\n",
            "{'batch_size': 60.0, 'dropout_cnn_block_one': 0.3277614463172372, 'dropout_cnn_block_three': 0.41740443289914503, 'dropout_cnn_block_two': 0.4831289180201592, 'dropout_dense_block_one': 0.46037611404795653, 'dropout_dense_block_two': 0.4742203223498344}\n",
            "accuracy=0.9414966106414795\n",
            "{'batch_size': 120.0, 'dropout_cnn_block_one': 0.31799469905402317, 'dropout_cnn_block_three': 0.38088443466447985, 'dropout_cnn_block_two': 0.3009057380897151, 'dropout_dense_block_one': 0.49171930222611554, 'dropout_dense_block_two': 0.551251077174434}\n",
            "accuracy=0.9689342379570007\n",
            "{'batch_size': 100.0, 'dropout_cnn_block_one': 0.33023785649696824, 'dropout_cnn_block_three': 0.38116263103465164, 'dropout_cnn_block_two': 0.3534280687367691, 'dropout_dense_block_one': 0.4445154308590103, 'dropout_dense_block_two': 0.5463634884661911}\n",
            "accuracy=0.9616780281066895\n",
            "{'batch_size': 120.0, 'dropout_cnn_block_one': 0.31839927593468004, 'dropout_cnn_block_three': 0.30045817104362826, 'dropout_cnn_block_two': 0.3146345194632226, 'dropout_dense_block_one': 0.3738056080017368, 'dropout_dense_block_two': 0.5688752187547925}\n",
            "accuracy=0.974829912185669\n",
            "{'batch_size': 140.0, 'dropout_cnn_block_one': 0.3200772180987329, 'dropout_cnn_block_three': 0.33920546874304824, 'dropout_cnn_block_two': 0.3174593763117251, 'dropout_dense_block_one': 0.35931755031963547, 'dropout_dense_block_two': 0.5789492703814753}\n",
            "accuracy=0.9664399027824402\n",
            "{'batch_size': 120.0, 'dropout_cnn_block_one': 0.4377913324763787, 'dropout_cnn_block_three': 0.31030014770043707, 'dropout_cnn_block_two': 0.30130955412547933, 'dropout_dense_block_one': 0.4348798770202347, 'dropout_dense_block_two': 0.5624955107131677}\n",
            "accuracy=0.9494330883026123\n",
            "{'batch_size': 140.0, 'dropout_cnn_block_one': 0.31303784325365797, 'dropout_cnn_block_three': 0.34498216968570977, 'dropout_cnn_block_two': 0.33425428189323936, 'dropout_dense_block_one': 0.3656592149404869, 'dropout_dense_block_two': 0.43142058543075945}\n",
            "accuracy=0.9716553092002869\n",
            "100%|██████████| 30/30 [10:04<00:00, 20.14s/it, best loss: -0.974829912185669]\n"
          ],
          "name": "stdout"
        }
      ]
    },
    {
      "cell_type": "code",
      "metadata": {
        "id": "EBbr99rnn3vP",
        "colab_type": "code",
        "colab": {}
      },
      "source": [
        ""
      ],
      "execution_count": 0,
      "outputs": []
    },
    {
      "cell_type": "code",
      "metadata": {
        "id": "gjeKxpyrn3rg",
        "colab_type": "code",
        "colab": {}
      },
      "source": [
        ""
      ],
      "execution_count": 0,
      "outputs": []
    },
    {
      "cell_type": "code",
      "metadata": {
        "id": "YnHPd8pXky1G",
        "colab_type": "code",
        "colab": {}
      },
      "source": [
        ""
      ],
      "execution_count": 0,
      "outputs": []
    }
  ]
}